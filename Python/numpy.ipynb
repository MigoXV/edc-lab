{
 "cells": [
  {
   "attachments": {},
   "cell_type": "markdown",
   "metadata": {},
   "source": [
    "# Numpy实验指导\n",
    "## 实验1：数组创建和操作\n",
    "1. 创建一个一维数组和二维数组"
   ]
  },
  {
   "cell_type": "code",
   "execution_count": null,
   "metadata": {},
   "outputs": [],
   "source": [
    "import numpy as np\n",
    "\n",
    "# 创建一维数组\n",
    "arr1 = np.array([1, 2, 3, 4, 5])\n",
    "\n",
    "# 创建二维数组\n",
    "arr2 = np.array([[1, 2, 3], [4, 5, 6], [7, 8, 9]])\n",
    "\n",
    "print(arr1)\n",
    "print(arr2)\n"
   ]
  },
  {
   "attachments": {},
   "cell_type": "markdown",
   "metadata": {},
   "source": [
    "预期结果\n",
    "\n",
    "```\n",
    "[1 2 3 4 5]\n",
    "\n",
    "[[1 2 3]\n",
    " [4 5 6]\n",
    " [7 8 9]]\n",
    " ```\n",
    "\n",
    " 2. 使用arange函数创建一个数组，并将其转化为二维数组"
   ]
  },
  {
   "cell_type": "code",
   "execution_count": null,
   "metadata": {},
   "outputs": [],
   "source": [
    "import numpy as np\n",
    "\n",
    "# 使用arange函数创建一个数组\n",
    "arr = np.arange(12)\n",
    "\n",
    "# 将一维数组转化为二维数组\n",
    "arr = arr.reshape(4, 3)\n",
    "\n",
    "print(arr)\n"
   ]
  },
  {
   "attachments": {},
   "cell_type": "markdown",
   "metadata": {},
   "source": [
    "预期结果\n",
    "\n",
    "```\n",
    "[[ 0  1  2]\n",
    " [ 3  4  5]\n",
    " [ 6  7  8]\n",
    " [ 9 10 11]]\n",
    "\n",
    "```\n",
    "\n",
    "3. 生成一个包含随机数的一维数组，并计算其平均值和方差\n"
   ]
  },
  {
   "cell_type": "code",
   "execution_count": null,
   "metadata": {},
   "outputs": [],
   "source": [
    "import numpy as np\n",
    "\n",
    "# 生成包含随机数的一维数组\n",
    "arr = np.random.rand(10)\n",
    "\n",
    "# 计算平均值和方差\n",
    "mean = np.mean(arr)\n",
    "var = np.var(arr)\n",
    "\n",
    "print(arr)\n",
    "print(\"平均值：\", mean)\n",
    "print(\"方差：\", var)"
   ]
  },
  {
   "attachments": {},
   "cell_type": "markdown",
   "metadata": {},
   "source": [
    "预期结果：\n",
    "\n",
    "```\n",
    "[0.3610056  0.38148111 0.12963377 0.23321336 0.08693451 0.27263291\n",
    " 0.13458466 0.63090281 0.99839905 0.79797651]\n",
    "平均值： 0.4013761288417168\n",
    "方差： 0.0892393601583078\n",
    "```\n",
    "\n",
    "4. 创建一个包含0至9的一维数组，将其中的奇数变为负数"
   ]
  },
  {
   "cell_type": "code",
   "execution_count": null,
   "metadata": {},
   "outputs": [],
   "source": [
    "import numpy as np\n",
    "\n",
    "# 创建包含0至9的一维数组\n",
    "arr = np.arange(10)\n",
    "\n",
    "# 将其中的奇数变为负数\n",
    "arr[arr % 2 == 1] = -arr[arr % 2 == 1]\n",
    "\n",
    "print(arr)\n"
   ]
  },
  {
   "attachments": {},
   "cell_type": "markdown",
   "metadata": {},
   "source": [
    "预期结果:\n",
    "\n",
    "```\n",
    "[ 0 -1  2 -3  4 -5  6 -7  8 -9]\n",
    "\n",
    "```\n",
    "\n",
    "5. 计算两个一维数组的点积\n"
   ]
  },
  {
   "cell_type": "code",
   "execution_count": null,
   "metadata": {},
   "outputs": [],
   "source": [
    "import numpy as np\n",
    "\n",
    "# 创建两个一维数组\n",
    "arr1 = np.array([1, 2, 3])\n",
    "arr2 = np.array([4, 5, 6])\n",
    "\n",
    "# 计算两个一维数组的点积\n",
    "dot_product = np.dot(arr1, arr2)\n",
    "\n",
    "print(dot_product)\n"
   ]
  },
  {
   "attachments": {},
   "cell_type": "markdown",
   "metadata": {},
   "source": [
    "预期结果:\n",
    "\n",
    "```\n",
    "32\n",
    "```\n",
    "\n",
    "6. 计算两个二维数组的矩阵积"
   ]
  },
  {
   "cell_type": "code",
   "execution_count": null,
   "metadata": {},
   "outputs": [],
   "source": [
    "import numpy as np\n",
    "\n",
    "# 创建两个一维数组\n",
    "a = np.array([1, 2, 3])\n",
    "b = np.array([4, 5, 6])\n",
    "\n",
    "# 计算a和b的点积\n",
    "dot_product = np.dot(a, b)\n",
    "\n",
    "print(\"a: \", a)\n",
    "print(\"b: \", b)\n",
    "print(\"a·b = \", dot_product)\n"
   ]
  },
  {
   "attachments": {},
   "cell_type": "markdown",
   "metadata": {},
   "source": [
    "预期结果：\n",
    "\n",
    "```\n",
    "a: [1 2 3]\n",
    "b: [4 5 6]\n",
    "a·b = 32\n",
    "\n",
    "```\n"
   ]
  }
 ],
 "metadata": {
  "language_info": {
   "name": "python"
  },
  "orig_nbformat": 4
 },
 "nbformat": 4,
 "nbformat_minor": 2
}
