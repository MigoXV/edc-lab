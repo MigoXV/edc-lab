{
 "cells": [
  {
   "attachments": {},
   "cell_type": "markdown",
   "metadata": {},
   "source": [
    "# Numpy实验指导\n",
    "## 实验1：数组创建和操作\n",
    "1. 创建一个一维数组和二维数组"
   ]
  },
  {
   "cell_type": "code",
   "execution_count": null,
   "metadata": {},
   "outputs": [],
   "source": [
    "import numpy as np\n",
    "\n",
    "# 创建一维数组\n",
    "arr1 = np.array([1, 2, 3, 4, 5])\n",
    "\n",
    "# 创建二维数组\n",
    "arr2 = np.array([[1, 2, 3], [4, 5, 6], [7, 8, 9]])\n",
    "\n",
    "print(arr1)\n",
    "print(arr2)\n"
   ]
  },
  {
   "attachments": {},
   "cell_type": "markdown",
   "metadata": {},
   "source": [
    "2. 使用arange函数创建一个数组，并将其转化为二维数组"
   ]
  },
  {
   "cell_type": "code",
   "execution_count": null,
   "metadata": {},
   "outputs": [],
   "source": [
    "import numpy as np\n",
    "\n",
    "# 使用arange函数创建一个数组\n",
    "arr = np.arange(12)\n",
    "\n",
    "# 将一维数组转化为二维数组\n",
    "arr = arr.reshape(4, 3)\n",
    "\n",
    "print(arr)\n"
   ]
  },
  {
   "attachments": {},
   "cell_type": "markdown",
   "metadata": {},
   "source": [
    "3. 生成一个包含随机数的一维数组，并计算其平均值和方差\n"
   ]
  },
  {
   "cell_type": "code",
   "execution_count": null,
   "metadata": {},
   "outputs": [],
   "source": [
    "import numpy as np\n",
    "\n",
    "# 生成包含随机数的一维数组\n",
    "arr = np.random.rand(10)\n",
    "\n",
    "# 计算平均值和方差\n",
    "mean = np.mean(arr)\n",
    "var = np.var(arr)\n",
    "\n",
    "print(arr)\n",
    "print(\"平均值：\", mean)\n",
    "print(\"方差：\", var)"
   ]
  },
  {
   "attachments": {},
   "cell_type": "markdown",
   "metadata": {},
   "source": [
    "4. 创建一个包含0至9的一维数组，将其中的奇数变为负数"
   ]
  },
  {
   "cell_type": "code",
   "execution_count": null,
   "metadata": {},
   "outputs": [],
   "source": [
    "import numpy as np\n",
    "\n",
    "# 创建包含0至9的一维数组\n",
    "arr = np.arange(10)\n",
    "\n",
    "# 将其中的奇数变为负数\n",
    "arr[arr % 2 == 1] = -arr[arr % 2 == 1]\n",
    "\n",
    "print(arr)\n"
   ]
  },
  {
   "attachments": {},
   "cell_type": "markdown",
   "metadata": {},
   "source": [
    "5. 计算两个一维数组的点积\n"
   ]
  },
  {
   "cell_type": "code",
   "execution_count": null,
   "metadata": {},
   "outputs": [],
   "source": [
    "import numpy as np\n",
    "\n",
    "# 创建两个一维数组\n",
    "arr1 = np.array([1, 2, 3])\n",
    "arr2 = np.array([4, 5, 6])\n",
    "\n",
    "# 计算两个一维数组的点积\n",
    "dot_product = np.dot(arr1, arr2)\n",
    "\n",
    "print(dot_product)\n"
   ]
  },
  {
   "attachments": {},
   "cell_type": "markdown",
   "metadata": {},
   "source": [
    "6. 计算两个二维数组的矩阵积"
   ]
  },
  {
   "cell_type": "code",
   "execution_count": null,
   "metadata": {},
   "outputs": [],
   "source": [
    "import numpy as np\n",
    "\n",
    "# 创建两个一维数组\n",
    "a = np.array([1, 2, 3])\n",
    "b = np.array([4, 5, 6])\n",
    "\n",
    "# 计算a和b的点积\n",
    "dot_product = np.dot(a, b)\n",
    "\n",
    "print(\"a: \", a)\n",
    "print(\"b: \", b)\n",
    "print(\"a·b = \", dot_product)\n"
   ]
  }
 ],
 "metadata": {
  "language_info": {
   "name": "python"
  },
  "orig_nbformat": 4
 },
 "nbformat": 4,
 "nbformat_minor": 2
}
